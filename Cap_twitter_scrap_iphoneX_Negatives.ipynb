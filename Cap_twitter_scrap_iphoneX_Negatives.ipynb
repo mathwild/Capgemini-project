{
 "cells": [
  {
   "cell_type": "code",
   "execution_count": 2,
   "metadata": {},
   "outputs": [],
   "source": [
    "import time\n",
    "\n",
    "from selenium import webdriver\n",
    "from selenium.webdriver.common.keys import Keys\n",
    "\n",
    "browser = webdriver.Chrome()\n",
    "base_url = u'https://twitter.com/search?q='\n",
    "\n",
    "#Query Scraping For Samsung Galaxy S8 shit\n",
    "query_1 = u'samsung%20galaxy%20s8%20shit&src=typd&lang=en'\n",
    "\n",
    "#Get data for iPhone X\n",
    "url_1 = base_url + query_1\n",
    "\n",
    "browser.get(url = url_1)\n",
    "time.sleep(1)\n",
    "\n",
    "body = browser.find_element_by_tag_name('body')\n",
    "\n",
    "for _ in range(500):\n",
    "    body.send_keys(Keys.PAGE_DOWN)\n",
    "    time.sleep(0.2)\n",
    "    \n",
    "tweets_1 = browser.find_elements_by_css_selector('div.content > div.js-tweet-text-container > p')\n",
    "users_1 = browser.find_elements_by_css_selector(\"div.content > div.stream-item-header > a > span.username.u-dir.u-textTruncate > b\")\n",
    "replies_1 = browser.find_elements_by_css_selector(\"div.content > div.stream-item-footer > div.ProfileTweet-actionList.js-actions > div.ProfileTweet-action.ProfileTweet-action--reply > button > span > span\")\n",
    "retweets_1 = browser.find_elements_by_css_selector('div.content > div.stream-item-footer > div.ProfileTweet-actionList.js-actions > div.ProfileTweet-action.ProfileTweet-action--retweet.js-toggleState.js-toggleRt > button.ProfileTweet-actionButton.js-actionButton.js-actionRetweet > span > span')\n",
    "likes_1 = browser.find_elements_by_css_selector('div.content > div.stream-item-footer > div.ProfileTweet-actionList.js-actions > div.ProfileTweet-action.ProfileTweet-action--favorite.js-toggleState > button.ProfileTweet-actionButton.js-actionButton.js-actionFavorite > span > span')\n",
    "times_1 = browser.find_elements_by_css_selector('div.stream-item-header > small > a')\n",
    "#hash_tags = browser.find_elements_by_css_selector('twitter-hashtag pretty-link js-nav')\n",
    "#permas = browser.find_elements_by_css_selector('div.js-tweet-text-container > p > a')\n",
    "\n",
    "#driver.find_element_by_css_selector(\".test_button4[value='Update']\")\n",
    "\n",
    "tweetss_1 = []\n",
    "userss_1 = []\n",
    "repliess_1 = []\n",
    "retweetss_1 = []\n",
    "likess_1 = []\n",
    "timess_1 = []\n",
    "#permass = []\n",
    "\n",
    "\n",
    "\n",
    "\n",
    "#for tweet in tweets:\n",
    "#    tweetss.append(tweet.text)\n",
    "tweetss_1 = [tweet.text for tweet in tweets_1]\n",
    "\n",
    "#for user in users:\n",
    "#    userss.append(user.text)\n",
    "userss_1 = [user.text for user in users_1]\n",
    "\n",
    "#for reply in replies:\n",
    "#    repliess.append(reply.text)\n",
    "repliess_1 = [reply.text for reply in replies_1]\n",
    "\n",
    "#for retweet in retweets:\n",
    "#    retweetss.append(retweet.text)\n",
    "retweetss_1 = [retweet.text for retweet in retweets_1]\n",
    "\n",
    "#for like in likes:\n",
    "#    likess.append(like.text)\n",
    "likess_1 = [like.text for like in likes_1]\n",
    "    \n",
    "#for time in times:\n",
    "#    timess.append(time.get_attribute(\"title\"))\n",
    "timess_1 = [time.get_attribute(\"title\") for time in times_1]\n",
    "    \n",
    "#for perma in permas:\n",
    "#    permass.append(perma.text)\n",
    "\n",
    "#for hash_tag in hash_tags:\n",
    "#    print (hash_tag.text)\n",
    "\n",
    "\n",
    "\n",
    "#<strong class=\"fullname show-popup-with-id u-textTruncate \" data-aria-label-part=\"\">TekNotice</strong>\n",
    "#<span class=\"username u-dir u-textTruncate\" dir=\"ltr\" data-aria-label-part=\"\">@<b>TekNotice</b></span>\n",
    "#<a href=\"/TekNotice/status/952962598311313408\" class=\"tweet-timestamp js-permalink js-nav js-tooltip\" title=\"6:56 PM - 15 Jan 2018\" data-conversation-id=\"952962598311313408\"><span class=\"_timestamp js-short-timestamp js-relative-timestamp\" data-time=\"1516038963\" data-time-ms=\"1516038963000\" data-long-form=\"true\" aria-hidden=\"true\">2h</span><span class=\"u-hiddenVisually\" data-aria-label-part=\"last\">2 hours ago</span></a>\n",
    "#<a href=\"/hashtag/samsungs8?src=hash\" data-query-source=\"hashtag_click\" class=\"twitter-hashtag pretty-link js-nav\" dir=\"ltr\"><s>#</s><b><strong>samsungs8</strong></b></a>\n",
    "#<span class=\"ProfileTweet-actionCountForAria\" id=\"profile-tweet-action-reply-count-aria-952962598311313408\">0 replies</span>\n",
    "#for tweet in tweets:\n",
    "#    print(tweet.text)\n",
    "    \n"
   ]
  },
  {
   "cell_type": "code",
   "execution_count": 4,
   "metadata": {},
   "outputs": [
    {
     "data": {
      "text/plain": [
       "224"
      ]
     },
     "execution_count": 4,
     "metadata": {},
     "output_type": "execute_result"
    }
   ],
   "source": [
    "len(tweetss_1)"
   ]
  },
  {
   "cell_type": "code",
   "execution_count": 9,
   "metadata": {},
   "outputs": [],
   "source": [
    "\n",
    "#Query Scraping For Samsung Galaxy S8 terrible\n",
    "query_2 = u'samsung%20s8%20terrible&src=typd&lang=en'\n",
    "\n",
    "#Get data for iPhone X\n",
    "url_2 = base_url + query_2\n",
    "\n",
    "browser.get(url = url_2)\n",
    "time.sleep(1)\n",
    "\n",
    "body = browser.find_element_by_tag_name('body')\n",
    "\n",
    "for _ in range(500):\n",
    "    body.send_keys(Keys.PAGE_DOWN)\n",
    "    time.sleep(0.2)\n",
    "    \n",
    "tweets_2 = browser.find_elements_by_css_selector('div.content > div.js-tweet-text-container > p')\n",
    "users_2 = browser.find_elements_by_css_selector(\"div.content > div.stream-item-header > a > span.username.u-dir.u-textTruncate > b\")\n",
    "replies_2 = browser.find_elements_by_css_selector(\"div.content > div.stream-item-footer > div.ProfileTweet-actionList.js-actions > div.ProfileTweet-action.ProfileTweet-action--reply > button > span > span\")\n",
    "retweets_2 = browser.find_elements_by_css_selector('div.content > div.stream-item-footer > div.ProfileTweet-actionList.js-actions > div.ProfileTweet-action.ProfileTweet-action--retweet.js-toggleState.js-toggleRt > button.ProfileTweet-actionButton.js-actionButton.js-actionRetweet > span > span')\n",
    "likes_2 = browser.find_elements_by_css_selector('div.content > div.stream-item-footer > div.ProfileTweet-actionList.js-actions > div.ProfileTweet-action.ProfileTweet-action--favorite.js-toggleState > button.ProfileTweet-actionButton.js-actionButton.js-actionFavorite > span > span')\n",
    "times_2 = browser.find_elements_by_css_selector('div.stream-item-header > small > a')\n",
    "#hash_tags = browser.find_elements_by_css_selector('twitter-hashtag pretty-link js-nav')\n",
    "#permas = browser.find_elements_by_css_selector('div.js-tweet-text-container > p > a')\n",
    "\n",
    "#driver.find_element_by_css_selector(\".test_button4[value='Update']\")\n",
    "\n",
    "tweetss_2 = []\n",
    "userss_2 = []\n",
    "repliess_2 = []\n",
    "retweetss_2 = []\n",
    "likess_2 = []\n",
    "timess_2 = []\n",
    "#permass = []\n",
    "\n",
    "\n",
    "\n",
    "\n",
    "#for tweet in tweets:\n",
    "#    tweetss.append(tweet.text)\n",
    "tweetss_2 = [tweet.text for tweet in tweets_2]\n",
    "\n",
    "#for user in users:\n",
    "#    userss.append(user.text)\n",
    "userss_2 = [user.text for user in users_2]\n",
    "\n",
    "#for reply in replies:\n",
    "#    repliess.append(reply.text)\n",
    "repliess_2 = [reply.text for reply in replies_2]\n",
    "\n",
    "#for retweet in retweets:\n",
    "#    retweetss.append(retweet.text)\n",
    "retweetss_2 = [retweet.text for retweet in retweets_2]\n",
    "\n",
    "#for like in likes:\n",
    "#    likess.append(like.text)\n",
    "likess_2 = [like.text for like in likes_2]\n",
    "    \n",
    "#for time in times:\n",
    "#    timess.append(time.get_attribute(\"title\"))\n",
    "timess_2 = [time.get_attribute(\"title\") for time in times_2]\n",
    "    \n",
    "#for perma in permas:\n",
    "#    permass.append(perma.text)\n",
    "\n",
    "#for hash_tag in hash_tags:\n",
    "#    print (hash_tag.text)\n"
   ]
  },
  {
   "cell_type": "code",
   "execution_count": 8,
   "metadata": {},
   "outputs": [
    {
     "data": {
      "text/plain": [
       "74"
      ]
     },
     "execution_count": 8,
     "metadata": {},
     "output_type": "execute_result"
    }
   ],
   "source": [
    "len(tweetss_2)"
   ]
  },
  {
   "cell_type": "code",
   "execution_count": null,
   "metadata": {
    "collapsed": true
   },
   "outputs": [],
   "source": []
  }
 ],
 "metadata": {
  "kernelspec": {
   "display_name": "Python 3",
   "language": "python",
   "name": "python3"
  },
  "language_info": {
   "codemirror_mode": {
    "name": "ipython",
    "version": 3
   },
   "file_extension": ".py",
   "mimetype": "text/x-python",
   "name": "python",
   "nbconvert_exporter": "python",
   "pygments_lexer": "ipython3",
   "version": "3.6.2"
  }
 },
 "nbformat": 4,
 "nbformat_minor": 2
}
